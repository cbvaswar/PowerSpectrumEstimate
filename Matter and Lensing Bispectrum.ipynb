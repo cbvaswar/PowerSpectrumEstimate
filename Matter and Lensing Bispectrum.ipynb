{
 "cells": [
  {
   "cell_type": "code",
   "execution_count": 38,
   "id": "130d7252-1994-4194-b849-ee37d82ace40",
   "metadata": {},
   "outputs": [],
   "source": [
    "import numpy as np\n",
    "from scipy.integrate import quad, odeint\n",
    "from scipy.interpolate import UnivariateSpline\n",
    "import camb\n",
    "from camb import model, initialpower\n",
    "import functools\n",
    "from scipy.interpolate import CubicSpline\n",
    "import import_ipynb\n",
    "from CAMB_MPS import PowerSpectrumCalculator\n",
    "from scipy.integrate import quad\n",
    "\n",
    "class vectorize(np.vectorize):\n",
    "    def __get__(self, obj, objtype):\n",
    "        return functools.partial(self.__call__, obj)\n"
   ]
  },
  {
   "cell_type": "code",
   "execution_count": 52,
   "id": "25abc8d5-93e5-456a-8b34-6424f7f93c41",
   "metadata": {},
   "outputs": [],
   "source": [
    "\n",
    "# Speed of light in km/s\n",
    "c = 299792.458\n",
    "\n",
    "\n",
    "class EquationOfState:\n",
    "    \"\"\"\n",
    "    Implements various dark energy equation of state (EoS) parameterizations.\n",
    "    \"\"\"\n",
    "    def __init__(self, w0, wa):\n",
    "        self.w0 = w0\n",
    "        self.wa = wa\n",
    "\n",
    "    def CPL(self, z):\n",
    "        \"\"\"Chevallier-Polarski-Linder (CPL) parameterization.\"\"\"\n",
    "        return (1 + z) ** (3 * (1 + self.w0 + self.wa)) * np.exp(-3 * self.wa * z / (1 + z))\n",
    "\n",
    "    def JBP(self, z):\n",
    "        \"\"\"Jassal-Bagla-Padmanabhan (JBP) parameterization.\"\"\"\n",
    "        return (1 + z) ** (3 * (1 + self.w0)) * np.exp(3 * self.wa * z**2 / (2 * (1 + z)**2))\n",
    "\n",
    "    def BA(self, z):\n",
    "        \"\"\"Barboza-Alcaniz (BA) parameterization.\"\"\"\n",
    "        return (1 + z) ** (3 * (1 + self.w0)) * (1 + z**2) ** (3 * self.wa / 2)\n",
    "\n",
    "    def FSL(self, z):\n",
    "        \"\"\"Feng-Shen-Li (FSL) parameterization.\"\"\"\n",
    "        fsl1 = (1 + z) ** (3 * (1 + self.w0)) * np.exp(3 * self.wa * np.arctan(z) / 2)\n",
    "        fsl1 *= (1 + z**2) ** (3 * self.wa / 4) * (1 + z) ** (-3 * self.wa / 2)\n",
    "        return fsl1\n",
    "\n",
    "\n",
    "class Background:\n",
    "    \"\"\"\n",
    "    Background cosmology calculations, including Hubble rate and distances.\n",
    "    \"\"\"\n",
    "    def __init__(self, Om, eos_model):\n",
    "        self.Om = Om\n",
    "        self.H0 = 67.66  # Default Hubble parameter in km/s/Mpc\n",
    "        self.eos_model = eos_model\n",
    "\n",
    "    def Hubble_rate(self, z, method=\"BA\"):\n",
    "        \"\"\"Hubble rate as a function of redshift.\"\"\"\n",
    "        if method == \"CPL\":\n",
    "            dark_energy = self.eos_model.CPL(z)\n",
    "        elif method == \"JBP\":\n",
    "            dark_energy = self.eos_model.JBP(z)\n",
    "        elif method == \"BA\":\n",
    "            dark_energy = self.eos_model.BA(z)\n",
    "        elif method == \"FSL\":\n",
    "            dark_energy = self.eos_model.FSL(z)\n",
    "        else:\n",
    "            raise ValueError(\"Invalid method. Choose from 'CPL', 'JBP', 'BA', or 'FSL'.\")\n",
    "        return self.H0 * np.sqrt(self.Om * (1 + z)**3 + (1 - self.Om) * dark_energy)\n",
    "    @vectorize\n",
    "    def Comoving_distance(self, z, method=\"BA\"):\n",
    "        \"\"\"\n",
    "        Compute the comoving distance to a given redshift.\n",
    "\n",
    "        Parameters:\n",
    "        z (float): Redshift value.\n",
    "        method (str): Method to use for Hubble rate calculation. Default is \"CPL\".\n",
    "\n",
    "        Returns:\n",
    "        float: Comoving distance in units of c/H0.\n",
    "        \"\"\"\n",
    "        DH = 2997.98 * 100 / self.H0 \n",
    "        integral, _ = quad(lambda z_: self.H0 / self.Hubble_rate(z_, method), 0, z)\n",
    "        return integral * DH\n",
    "\n",
    "    def Angular_diameter_distance(self, z, method=\"BA\"):\n",
    "        \"\"\"\n",
    "        Compute the angular diameter distance.\n",
    "        Parameters:\n",
    "        z (float): Redshift value.\n",
    "        method (str): Method to use for Hubble rate calculation. Default is \"CPL\".\n",
    "        Returns:\n",
    "        float: Angular diameter distance in units of c/H0.\n",
    "        \"\"\"\n",
    "        comoving_distance = self.Comoving_distance(z, method)\n",
    "        return comoving_distance / (1 + z)\n",
    "\n",
    "    def Luminosity_distance(self, z, method=\"BA\"):\n",
    "        \"\"\"\n",
    "        Compute the luminosity distance.\n",
    "        Parameters:\n",
    "        z (float): Redshift value.\n",
    "        method (str): Method to use for Hubble rate calculation. Default is \"CPL\".\n",
    "        Returns:\n",
    "        float: Luminosity distance in units of c/H0.\n",
    "        \"\"\"\n",
    "        comoving_distance = self.Comoving_distance(z, method)\n",
    "        return comoving_distance * (1 + z)\n",
    "\n",
    "    @vectorize\n",
    "    def hubble_normalized_z(self, z, method=\"BA\"):\n",
    "        '''\n",
    "        This function returna the normalized Hubble expression\n",
    "        H(z) = H0*sqrt(Om_m(1+z)^3+Om_DE)\n",
    "        '''\n",
    "        return self.Hubble_rate(z, method)/self.H0\n",
    "    \n",
    "    def inverse_hubble_normalized_z(self, z, method=\"BA\"):\n",
    "        '''\n",
    "        Inverse of the normalized hubble parameter : 1/h(z)\n",
    "        where  h(z)= H(z)/H0\n",
    "        '''\n",
    "        return 1./self.hubble_normalized_z(z, method)\n",
    "    \n",
    "    def hubble_normalized_a(self, a, method=\"BA\"):\n",
    "        '''\n",
    "        Calculates normalized Hubble parameter h(a)= H(a)/H0\n",
    "        where H(a) is the Hubble parameter at redshift z and \n",
    "        H0 is the current value of Hubble parameter\n",
    "        '''\n",
    "        return self.hubble_normalized_z(1./a - 1, method)\n",
    "    \n",
    "    def hubble_prime_normalized_a(self, a, method=\"BA\"):\n",
    "        '''\n",
    "        Derivative of dimensionless hubble parameter w.r.t a\n",
    "        '''\n",
    "        dx = 1e-6\n",
    "        return (self.hubble_normalized_a(a + dx, method) - self.hubble_normalized_a(a - dx, method)) / (2 * dx)\n",
    "\n",
    "    def om_0_a(self, a, method=\"BA\"):\n",
    "        '''\n",
    "        Omega matter as a function of scale factor\n",
    "        '''\n",
    "        return self.Om*a**(-3)/self.hubble_normalized_a(a, method)**2.0\n",
    "    \n",
    "    def om_0_z(self, z, method=\"BA\"):\n",
    "        '''\n",
    "        Omega matter as a function of redshift\n",
    "        '''        \n",
    "        return self.om_0_a(1./(1.+z), method)\n",
    " \n",
    "    a_factor = np.linspace(0.01, 1, 10000)\n",
    "        \n",
    "    def deriv(self, y, a, method=\"BA\"):\n",
    "        #print(f\"Method: {method}, a: {a}\")\n",
    "\n",
    "        h_prime = self.hubble_prime_normalized_a(a, method)\n",
    "        h_norm = self.hubble_normalized_a(a, method)\n",
    "        omega_m = self.om_0_a(a, method)\n",
    "\n",
    "        #print(f\"H'(a): {h_prime}, H(a): {h_norm}, Omega_m(a): {omega_m}\")\n",
    "\n",
    "        der = [y[1], -(3./a + h_prime / h_norm) * y[1] + 1.5 * omega_m * y[0] / (a**2.)]\n",
    "        return der\n",
    "    \n",
    "    def solution(self, method=\"BA\"):\n",
    "        '''\n",
    "        Soution to the matter perturbation \n",
    "        Initial condition chosen at early matter dominated area \n",
    "        Dm=a=dD/dm at a=0.001\n",
    "        '''\n",
    "        y_initial = (0.01,1)\n",
    "        return odeint(self.deriv, y_initial, self.a_factor, args=(method,), rtol=1e-8, atol=1e-10)\n",
    "    \n",
    "    def D_p(self, a, method=\"BA\"):\n",
    "        '''\n",
    "        This function does not calculate anything but \n",
    "        extracts the solution of the differential equation\n",
    "        Do not call the function, it does give any output\n",
    "        '''\n",
    "        y11 = self.solution(method)[:,0]\n",
    "        ynn11 = UnivariateSpline(self.a_factor, y11, k=3, s=0)\n",
    "        return ynn11(a)\n",
    "\n",
    "    def D_plus_a(self, a, method=\"BA\"):\n",
    "        '''\n",
    "        This function return the growing mode solution\n",
    "        as a function of scale factor i.e D+(a)/D+(a=1) \n",
    "        normalized at present epoch\n",
    "        '''\n",
    "        return self.D_p(a, method)\n",
    "    \n",
    "    @vectorize\n",
    "    def D_plus_z(self, z, method=\"BA\"):\n",
    "        '''\n",
    "        Normalized solution of the growing mode as a function of redshift z\n",
    "        '''\n",
    "        return self.D_plus_a(1./(1.+z), method)\n",
    "\n",
    "    def _initialize_camb_params(self):\n",
    "        pars = camb.CAMBparams()\n",
    "        h = (self.H0 / 100)\n",
    "        ombh2 = 0.045 * h**2  # Assuming baryon fraction is 0.045\n",
    "        omch2 = (self.Om - 0.045) * h**2\n",
    "        pars.set_cosmology(H0=self.H0, ombh2=ombh2, omch2=omch2)\n",
    "        pars.InitPower.set_params(As=2.1e-9, ns=0.96)\n",
    "        pars.set_matter_power(redshifts=[0], kmax=100.0)\n",
    "        pars.NonLinear = model.NonLinear_none\n",
    "        return pars\n",
    "    \n",
    "    @vectorize\n",
    "    def get_matter_power(self, k):\n",
    "        camb_params = self._initialize_camb_params()\n",
    "        results = camb.get_results(camb_params)\n",
    "        kh, _z, pk = results.get_linear_matter_power_spectrum(hubble_units=True,have_power_spectra=True,nonlinear=False)\n",
    "        spline = CubicSpline(kh, pk[0], bc_type='natural')  # Interpolate P(k)\n",
    "\n",
    "    # Evaluate the interpolator at the given k\n",
    "        return spline(k)\n",
    "    \n",
    "    @vectorize\n",
    "    def get_matter_power_z(self, k, z, method=\"BA\"):\n",
    "        camb_params = self._initialize_camb_params()\n",
    "        results = camb.get_results(camb_params)\n",
    "        #kh, _, pk = results.get_matter_power_spectrum(minkh=k * 0.999, maxkh=k * 1.001, npoints=2)\n",
    "        D_plus_z_value = self.D_plus_z(z, method)  # Accessing D_plus_z from Background\n",
    "        D_plus_z_0 = self.D_plus_z(0, method)\n",
    "        kh, _z, pk = results.get_linear_matter_power_spectrum(hubble_units=True,have_power_spectra=True,nonlinear=False)\n",
    "        spline = CubicSpline(kh, pk[0], bc_type='natural')  # Interpolate P(k)\n",
    "\n",
    "    # Evaluate the interpolator at the given k\n",
    "        return spline(k) * (D_plus_z_value/D_plus_z_0)**2\n",
    "        #return CubicSpline(kh, pk[0], bc_type='natural')#scipy.interpolate.interp1d(kh,pk[0],kind=interp_type#np.mean(pk) * (D_plus_z_value/D_plus_z_0)**2\n",
    "    @vectorize\n",
    "    def camb_interpolated_ps_z(self, k, z, method=\"BA\"):\n",
    "        H0 = self.H0\n",
    "        Om = self.Om\n",
    "        calculator = PowerSpectrumCalculator(H0, Om)\n",
    "        filename = \"matter_power_spectrum.txt\"\n",
    "        spline = calculator.load_and_spline_power_spectrum(k, filename)\n",
    "        #print(\"Spline interpolator created.\")\n",
    "        D_plus_z_value = self.D_plus_z(z, method)  # Accessing D_plus_z from Background\n",
    "        D_plus_z_0 = self.D_plus_z(0, method)\n",
    "        # Evaluate the interpolator at the given k\n",
    "        return spline * (D_plus_z_value/D_plus_z_0)**2\n",
    "    @vectorize\n",
    "    def camb_interpolated_ps(self, k):\n",
    "        H0 = self.H0\n",
    "        Om = self.Om\n",
    "        calculator = PowerSpectrumCalculator(H0, Om)\n",
    "        filename = \"matter_power_spectrum.txt\"\n",
    "        spline = calculator.load_and_spline_power_spectrum(k, filename)\n",
    "        #print(\"Spline interpolator created.\")\n",
    "        # Evaluate the interpolator at the given k\n",
    "        return spline \n",
    "\n",
    "\n",
    "\n"
   ]
  },
  {
   "cell_type": "code",
   "execution_count": null,
   "id": "870ffb44-99d7-4ea6-b363-fb9624a64f17",
   "metadata": {},
   "outputs": [],
   "source": []
  },
  {
   "cell_type": "code",
   "execution_count": 55,
   "id": "4ca14ac9-b8de-43fe-8c92-74a81bd1dd88",
   "metadata": {},
   "outputs": [
    {
     "data": {
      "text/plain": [
       "array([4.16914616e+03, 1.03042081e+04, 2.09508371e+04, 2.49685774e+04,\n",
       "       1.16667894e+04, 2.68194757e+03, 3.92628009e+02, 3.96792572e+01,\n",
       "       3.26273753e+00, 2.34855318e-01])"
      ]
     },
     "execution_count": 55,
     "metadata": {},
     "output_type": "execute_result"
    }
   ],
   "source": [
    "eos_lcdm = EquationOfState(w0=-1.0, wa=-0.0)# Lambda-CDM model (w0 = -1, wa = 0)\n",
    "background_lcdm = Background(Om=0.311, eos_model=eos_lcdm)\n",
    "k_values = np.logspace(-3, 1, 10)\n",
    "X = background_lcdm.camb_interpolated_ps(k_values)\n",
    "X"
   ]
  },
  {
   "cell_type": "code",
   "execution_count": 57,
   "id": "0dd34a11-c8a0-4138-97a3-432d0c86ea8e",
   "metadata": {},
   "outputs": [
    {
     "name": "stdout",
     "output_type": "stream",
     "text": [
      "Spline interpolator created.\n",
      "Spline interpolator created.\n",
      "Spline interpolator created.\n",
      "Spline interpolator created.\n",
      "Spline interpolator created.\n",
      "Spline interpolator created.\n",
      "Spline interpolator created.\n",
      "Spline interpolator created.\n",
      "Spline interpolator created.\n",
      "Spline interpolator created.\n",
      "Spline interpolator created.\n",
      "Spline interpolator created.\n",
      "Spline interpolator created.\n",
      "Spline interpolator created.\n",
      "Spline interpolator created.\n",
      "Spline interpolator created.\n",
      "Spline interpolator created.\n",
      "Spline interpolator created.\n",
      "Spline interpolator created.\n",
      "Spline interpolator created.\n",
      "Spline interpolator created.\n",
      "Spline interpolator created.\n"
     ]
    },
    {
     "data": {
      "text/plain": [
       "[<matplotlib.lines.Line2D at 0x16212c110>]"
      ]
     },
     "execution_count": 57,
     "metadata": {},
     "output_type": "execute_result"
    },
    {
     "data": {
      "image/png": "[encoded data removed]",
      "text/plain": [
       "<Figure size 640x480 with 1 Axes>"
      ]
     },
     "metadata": {},
     "output_type": "display_data"
    }
   ],
   "source": [
    "import matplotlib.pyplot as plt\n",
    "plt.loglog()\n",
    "\n",
    "plt.plot(k_values, background_lcdm.camb_interpolated_ps_z(k_values, 0, method=\"BA\"))\n",
    "plt.plot(k_values, background_lcdm.camb_interpolated_ps_z(k_values, 1, method=\"BA\"))\n",
    "plt.plot(k_values,X)"
   ]
  },
  {
   "cell_type": "code",
   "execution_count": null,
   "id": "f821e8f1-6144-4fc5-8e96-2b6c49b722dd",
   "metadata": {},
   "outputs": [],
   "source": [
    "# Initialize the equation of state and background\n",
    "eos_cpl = EquationOfState(w0=-1.1, wa=-0.1)# Lambda-CDM model (w0 = -1, wa = 0)\n",
    "eos_cpl2 = EquationOfState(w0=-0.9, wa=-0.1)\n",
    "eos_lcdm = EquationOfState(w0=-1.0, wa=0.0)  # Lambda-CDM model (w0 = -1, wa = 0)\n",
    "\n",
    "background_lcdm = Background(Om=0.311, eos_model=eos_lcdm)  # Omega_m = 0.3, Lambda-CDM\n",
    "background_cpl = Background(Om=0.311, eos_model=eos_cpl)  # Omega_m = 0.3, Lambda-CDM\n",
    "background_cpl2 = Background(Om=0.311, eos_model=eos_cpl2)  # Omega_m = 0.3, Lambda-CDM\n",
    "\n",
    "\n",
    "# Define a range of k values (in h/Mpc)\n",
    "#k_values = np.logspace(-3, 1, 10)  # From 10^-3 to 10^1 h/Mpc\n",
    "\n",
    "# Compute the matter power spectrum for z = 0\n",
    "#matter_power_spectrum = background.get_matter_power(k_values, 1)\n",
    "#matter_power_spectrum1 = background_lcdm.get_matter_power_z(k_values, 0, method='BA')\n",
    "#matter_power_spectrum2 = background_lcdm.get_matter_power_z(k_values, 1, method='BA')\n",
    "#matter_power_spectrum3 = background_lcdm.get_matter_power_z(k_values, 2, method='BA')\n"
   ]
  },
  {
   "cell_type": "code",
   "execution_count": null,
   "id": "3de0dc89-e7e0-41fa-9539-b5b3bac29863",
   "metadata": {},
   "outputs": [],
   "source": [
    "z = np.linspace(0.1, 2.5, 10)\n",
    "X = background_lcdm.D_plus_z(z, method='BA')\n",
    "Y = background_cpl.D_plus_z(z, method ='BA')\n",
    "Z = background_cpl2.D_plus_z(z, method ='BA')\n",
    "plt.plot(z, X/X)\n",
    "plt.plot(z, Y/X, label='-1.1,-0.1')\n",
    "plt.plot(z, Z/X, label='-0.9,-0.1')\n",
    "plt.legend()\n",
    "\n"
   ]
  },
  {
   "cell_type": "code",
   "execution_count": 75,
   "id": "47e1a722-d4da-4629-acc4-93235543599d",
   "metadata": {},
   "outputs": [],
   "source": [
    "class PerturbationTheory:\n",
    "    \"\"\"\n",
    "    Perturbation theory for matter 3-point and 4-point functions.\n",
    "    Incorporates power spectrum from CAMB.\n",
    "    \"\"\"\n",
    "    def __init__(self, eos_model, Background):\n",
    "        self.eos_model = eos_model\n",
    "        self.Background = Background\n",
    "\n",
    "    def alpha_BCGS(self, k1, k2):\n",
    "        k1sq = np.vdot(k1, k1)\n",
    "        if k1sq == 0.0:\n",
    "            return 0.0\n",
    "        else:\n",
    "            return np.vdot(k1 + k2, k1) / k1sq\n",
    "\n",
    "    def gamma_BCGS(self, k1, k2):\n",
    "        k1a = np.vdot(k1, k1)\n",
    "        k2a = np.vdot(k2, k2)\n",
    "        if k1a * k2a == 0.0:\n",
    "            return 0.0\n",
    "        else:\n",
    "            return 1 - (np.vdot(k1, k2)) ** 2 / (k1a * k2a)\n",
    "\n",
    "    def Fs2(self, k1, k2):\n",
    "        d = np.dot(k1, k2)\n",
    "        k1a = np.sqrt(np.dot(k1, k1))\n",
    "        k2a = np.sqrt(np.dot(k2, k2))\n",
    "        if k1a < 1.e-8 or k2a < 1.e-8:\n",
    "            return 5.0 / 7.0\n",
    "        else:\n",
    "            rat = d / (k1a * k2a)\n",
    "            return (5.0 / 7.0 + (rat / 2.0) * (k1a / k2a + k2a / k1a) + (2.0 / 7.0) * rat ** 2)\n",
    "\n",
    "    def Fs3(self, k1, k2, k3):\n",
    "        k1a = np.vdot(k1, k1)\n",
    "        k2a = np.vdot(k2, k2)\n",
    "        k3a = np.vdot(k3, k3)\n",
    "        k12a = np.vdot(k1 + k2, k1 + k2)\n",
    "        k23a = np.vdot(k2 + k3, k2 + k3)\n",
    "        k123a = np.vdot(k1 + k2 + k3, k1 + k2 + k3)\n",
    "\n",
    "        b1 = ((1.0 / 21.0) * np.vdot(k1, k2) * k12a + (1.0 / 14.0) * k2a * np.vdot(k1, k1 + k2))\n",
    "        b2 = (7.0 * k3a * np.vdot(k1 + k2, k1 + k2 + k3) + np.vdot(k3, k1 + k2) * k123a)\n",
    "        b3 = ((1.0 / 21.0) * np.vdot(k2, k3) * k23a + (1.0 / 14.0) * k3a * np.vdot(k2, k2 + k3))\n",
    "        b4 = (np.vdot(k2, k3) * k23a + 5.0 * k3a * np.vdot(k2, k2 + k3))\n",
    "\n",
    "        c1 = 0.0 if k12a < 1.0e-8 else 1.0 / (3.0 * k1a * k2a * k3a * k12a)\n",
    "        c3 = 0.0 if k23a < 1.0e-8 else (np.vdot(k1, k2 + k3) * k123a) / (3.0 * k1a * k2a * k3a * k23a)\n",
    "        c4 = np.vdot(k1, k1 + k2 + k3) / (18.0 * k1a * k2a * k3a)\n",
    "\n",
    "        return c1 * b1 * b2 + c3 * b3 + c4 * b4\n",
    "    \n",
    "    @vectorize\n",
    "    def bispectrum(self, k1, k2, k3):\n",
    "        \"\"\"\n",
    "        Perturbation theory bispectrum, using CAMB power spectrum.\n",
    "        \"\"\"\n",
    "        k1a = np.sqrt(np.vdot(k1, k1))\n",
    "        k2a = np.sqrt(np.vdot(k2, k2))\n",
    "        k3a = np.sqrt(np.vdot(k3, k3))\n",
    "\n",
    "        p1 = self.Background.camb_interpolated_ps(k1a)\n",
    "        p2 = self.Background.camb_interpolated_ps(k2a)\n",
    "        p3 = self.Background.camb_interpolated_ps(k3a)\n",
    "\n",
    "        return 2.0 * (self.Fs2(k1, k2) * p1 * p2 +\n",
    "                      self.Fs2(k1, k3) * p1 * p3 +\n",
    "                      self.Fs2(k2, k3) * p2 * p3)\n",
    "    @vectorize\n",
    "    def bispectrum_z(self, k1, k2, k3, z, method=\"BA\"):\n",
    "        \"\"\"\n",
    "        Perturbation theory bispectrum, using CAMB power spectrum.\n",
    "        \"\"\"\n",
    "        Dplus = self.Background.D_plus_z(z, method)**4\n",
    "        Dplus0 = self.Background.D_plus_z(0, method)**4\n",
    "        return self.bispectrum(k1, k2, k3) * (Dplus/Dplus0) \n"
   ]
  },
  {
   "cell_type": "code",
   "execution_count": 77,
   "id": "b5f289c2-5353-45ef-9489-3dc67c95e2bc",
   "metadata": {},
   "outputs": [
    {
     "data": {
      "text/plain": [
       "array(4.07076095e+08)"
      ]
     },
     "execution_count": 77,
     "metadata": {},
     "output_type": "execute_result"
    }
   ],
   "source": [
    "#PerturbationTheory(eos_lcdm, background_lcdm).bispectrum(0.1,0.1,0.1)"
   ]
  },
  {
   "cell_type": "code",
   "execution_count": 79,
   "id": "8c78ba5a-014d-4525-bee3-06dccdfc38eb",
   "metadata": {},
   "outputs": [
    {
     "data": {
      "text/plain": [
       "array(4.07076095e+08)"
      ]
     },
     "execution_count": 79,
     "metadata": {},
     "output_type": "execute_result"
    }
   ],
   "source": [
    "#PerturbationTheory(eos_lcdm, background_lcdm).bispectrum_z(0.1,0.1,0.1, 0,method=\"BA\")"
   ]
  },
  {
   "cell_type": "code",
   "execution_count": 205,
   "id": "0df9f192-3266-4fa1-bc68-62c197e44bd5",
   "metadata": {},
   "outputs": [],
   "source": [
    "krange = 10**np.linspace(-2,0,100)\n",
    "ANS = PerturbationTheory(eos_lcdm, background_lcdm).bispectrum(krange,krange,krange)"
   ]
  },
  {
   "cell_type": "code",
   "execution_count": 207,
   "id": "c09af845-e1c4-4132-9891-0d94953972f3",
   "metadata": {},
   "outputs": [],
   "source": [
    "krange = 10**np.linspace(-2,0,100)\n",
    "ANS2 = PerturbationTheory(eos_lcdm, background_lcdm).bispectrum(krange,krange,krange/10)"
   ]
  },
  {
   "cell_type": "code",
   "execution_count": 209,
   "id": "71af3152-1d79-44af-8276-19583a52c106",
   "metadata": {},
   "outputs": [],
   "source": [
    "krange = 10**np.linspace(-2,0,100)\n",
    "ANS3 = PerturbationTheory(eos_lcdm, background_lcdm).bispectrum(krange,krange,krange*1.8)"
   ]
  },
  {
   "cell_type": "code",
   "execution_count": 233,
   "id": "0edf6b2a-54fb-4c5c-af4f-4da6dafa7c05",
   "metadata": {},
   "outputs": [
    {
     "data": {
      "image/png": "[encoded data removed]",
      "text/plain": [
       "<Figure size 640x480 with 1 Axes>"
      ]
     },
     "metadata": {},
     "output_type": "display_data"
    }
   ],
   "source": [
    "plt.loglog()\n",
    "plt.plot(krange, (0.67)**3*ANS,  c = 'red', label = r'$k,k,k$', lw = 0.7 )\n",
    "plt.plot(krange, (0.67)**3*ANS2, c = 'black', label = r'$k,k,k/10$', lw = 0.7)\n",
    "plt.plot(krange, (0.67)**3*ANS3, c = 'blue', label = r'$k,k,1.8k$', lw = 0.7)\n",
    "plt.xlabel(r'$k$')\n",
    "plt.ylabel(r'$B_m(k)$')\n",
    "plt.legend()\n",
    "plt.show()"
   ]
  },
  {
   "cell_type": "code",
   "execution_count": 162,
   "id": "e0a71401-951f-48dd-a868-e9864a2dff2f",
   "metadata": {},
   "outputs": [],
   "source": [
    "\n",
    "def CLx(l):\n",
    "    c = 3e5  # Speed of light in km/s\n",
    "    omega_m = 0.311\n",
    "    H0 = 67.66  # Hubble constant in km/s/Mpc\n",
    "    Normalization = (3 / 2) * omega_m * (H0 / c)**2\n",
    "\n",
    "    # Define the kernel for integration\n",
    "    def kernel(z):\n",
    "        # Comoving distance and Hubble rate\n",
    "        Dc_z = background_lcdm.Comoving_distance(z, method=\"BA\")\n",
    "        Dc_max = background_lcdm.Comoving_distance(1090, method=\"BA\")\n",
    "        H_z = background_lcdm.Hubble_rate(z, method=\"BA\")\n",
    "        \n",
    "        # Avoid division by zero for Dc_z and H_z\n",
    "        if Dc_z == 0 or H_z == 0:\n",
    "            return 0\n",
    "\n",
    "        # Terms of the kernel\n",
    "        term1 = (1 - Dc_z / Dc_max)**3\n",
    "        term2 = (1 / Dc_z) * (1 + z)**3 / H_z\n",
    "        k = l / Dc_z\n",
    "        term3 = PerturbationTheory(eos_lcdm, background_lcdm).bispectrum_z(k, k, k, z, method=\"BA\")\n",
    "\n",
    "        return term1 * term2 * term3\n",
    "\n",
    "    # Perform the integration over redshift z\n",
    "    PkappaL, _ = quad(kernel, 0.1, 1090, limit=100)\n",
    "    PkappaL *= Normalization**3 * c  # Apply normalization\n",
    "\n",
    "    return PkappaL\n"
   ]
  },
  {
   "cell_type": "code",
   "execution_count": 157,
   "id": "b458963d-b927-4534-9704-3c13a6e5c22b",
   "metadata": {},
   "outputs": [],
   "source": [
    "l_values = 10**np.linspace(1, 3, 20)\n",
    "Cl3 = []\n",
    "for l in l_values:\n",
    "    Cl3 += [CLx(l)]\n"
   ]
  },
  {
   "cell_type": "code",
   "execution_count": 172,
   "id": "7b1d4d6a-dc08-49d0-b1cd-58cb5a4434bf",
   "metadata": {},
   "outputs": [
    {
     "data": {
      "text/plain": [
       "array([  10.        ,   12.74274986,   16.23776739,   20.69138081,\n",
       "         26.36650899,   33.59818286,   42.81332399,   54.55594781,\n",
       "         69.51927962,   88.58667904,  112.88378917,  143.84498883,\n",
       "        183.29807108,  233.57214691,  297.63514416,  379.26901907,\n",
       "        483.29302386,  615.84821107,  784.75997035, 1000.        ])"
      ]
     },
     "execution_count": 172,
     "metadata": {},
     "output_type": "execute_result"
    }
   ],
   "source": [
    "l_values"
   ]
  },
  {
   "cell_type": "code",
   "execution_count": 164,
   "id": "2eb20fd1-e77a-439d-a762-c4c2675f368f",
   "metadata": {},
   "outputs": [],
   "source": [
    "Cl = []\n",
    "for l in l_values:\n",
    "    Cl += [CLx(l)]\n"
   ]
  },
  {
   "cell_type": "code",
   "execution_count": 166,
   "id": "c8fc8193-cd57-4630-a657-d07d6b0476ae",
   "metadata": {},
   "outputs": [],
   "source": [
    "#l_values = 10**np.linspace(1, 3, 20)\n",
    "Cl3 = np.array(Cl3)\n",
    "Cl = np.array(Cl)"
   ]
  },
  {
   "cell_type": "code",
   "execution_count": 168,
   "id": "60dcf31d-38f5-4bd4-9166-c7156429ba24",
   "metadata": {},
   "outputs": [
    {
     "data": {
      "text/plain": [
       "array([1.32922388e-13, 1.44708239e-13, 1.48361910e-13, 1.44670844e-13,\n",
       "       1.35717838e-13, 1.22754753e-13, 1.06186273e-13, 8.77851686e-14,\n",
       "       6.92337968e-14, 5.18552087e-14, 3.68028293e-14, 2.47451826e-14,\n",
       "       1.58020663e-14, 9.61904090e-15, 5.58329981e-15, 3.06964398e-15,\n",
       "       1.58281938e-15, 7.64914909e-16, 3.51144357e-16, 1.54228855e-16])"
      ]
     },
     "execution_count": 168,
     "metadata": {},
     "output_type": "execute_result"
    }
   ],
   "source": [
    "Cl"
   ]
  },
  {
   "cell_type": "code",
   "execution_count": 187,
   "id": "bca23994-2115-49c6-a2a6-77c1c88651b8",
   "metadata": {},
   "outputs": [
    {
     "data": {
      "text/plain": [
       "array([9.90754159e-14, 1.18846191e-13, 1.34914468e-13, 1.45109881e-13,\n",
       "       1.48559462e-13, 1.45162193e-13, 1.35544167e-13, 1.21738886e-13,\n",
       "       1.05204792e-13, 8.69394631e-14, 6.86444740e-14, 5.16507796e-14,\n",
       "       3.69368158e-14, 2.50666371e-14, 1.61387389e-14, 9.86729886e-15,\n",
       "       5.73943074e-15, 3.17899271e-15, 1.67117274e-15, 8.27469166e-16])"
      ]
     },
     "execution_count": 187,
     "metadata": {},
     "output_type": "execute_result"
    }
   ],
   "source": [
    "Cl3"
   ]
  },
  {
   "cell_type": "code",
   "execution_count": 229,
   "id": "baf95e99-c996-46ed-96e9-9257f1d852cc",
   "metadata": {},
   "outputs": [
    {
     "data": {
      "text/plain": [
       "<matplotlib.legend.Legend at 0x154ccdee0>"
      ]
     },
     "execution_count": 229,
     "metadata": {},
     "output_type": "execute_result"
    },
    {
     "data": {
      "image/png": "[encoded data removed]",
      "text/plain": [
       "<Figure size 640x480 with 1 Axes>"
      ]
     },
     "metadata": {},
     "output_type": "display_data"
    }
   ],
   "source": [
    "plt.loglog()\n",
    "plt.plot(l_values, l_values**4 * Cl * 0.67**3/ (4*np.pi**2),c = 'red', label=r'$\\ell,\\ell,\\ell$', lw = 0.7)\n",
    "#plt.plot(l_values, l_values**4 * Cl2 * 0.67**3/ (4*np.pi**2), label='ll/2l/2')\n",
    "plt.plot(l_values, l_values**4 * Cl3 * 0.67**3/ (4*np.pi**2), c = 'green', label=r'$\\ell,2\\ell,2\\ell$', lw = 0.7)\n",
    "plt.ylabel(r'$\\ell^4 B_{\\kappa} (\\ell)/(2 \\pi)^2$')\n",
    "plt.xlabel(r'$\\ell$')\n",
    "plt.legend()"
   ]
  },
  {
   "cell_type": "code",
   "execution_count": null,
   "id": "cba7eb8e-3156-4ac8-a4cf-706e5576566d",
   "metadata": {},
   "outputs": [],
   "source": []
  },
  {
   "cell_type": "code",
   "execution_count": null,
   "id": "84cf7feb-7e73-4bb5-bb6b-a1e54835397e",
   "metadata": {},
   "outputs": [],
   "source": []
  }
 ],
 "metadata": {
  "kernelspec": {
   "display_name": "Python 3 (ipykernel)",
   "language": "python",
   "name": "python3"
  },
  "language_info": {
   "codemirror_mode": {
    "name": "ipython",
    "version": 3
   },
   "file_extension": ".py",
   "mimetype": "text/x-python",
   "name": "python",
   "nbconvert_exporter": "python",
   "pygments_lexer": "ipython3",
   "version": "3.12.2"
  }
 },
 "nbformat": 4,
 "nbformat_minor": 5
}
