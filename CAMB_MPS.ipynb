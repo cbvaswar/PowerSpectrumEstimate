{
 "cells": [
  {
   "cell_type": "code",
   "execution_count": 77,
   "id": "9f6278b0-8eeb-4096-a64d-a5da59c61592",
   "metadata": {},
   "outputs": [],
   "source": [
    "import numpy as np\n",
    "from scipy.interpolate import CubicSpline\n",
    "import camb\n",
    "from camb import model\n",
    "\n",
    "class PowerSpectrumCalculator:\n",
    "    def __init__(self, H0, Om):\n",
    "        self.H0 = H0  # Hubble parameter\n",
    "        self.Om = Om  # Total matter density parameter\n",
    "\n",
    "    def _initialize_camb_params(self):\n",
    "        pars = camb.CAMBparams()\n",
    "        h = (self.H0 / 100)\n",
    "        ombh2 = 0.045 * h**2  # Assuming baryon fraction is 0.045\n",
    "        omch2 = (self.Om - 0.045) * h**2\n",
    "        pars.set_cosmology(H0=self.H0, ombh2=ombh2, omch2=omch2)\n",
    "        pars.InitPower.set_params(As=2.1e-9, ns=0.96)\n",
    "        pars.set_matter_power(redshifts=[0], kmax=100.0)\n",
    "        pars.NonLinear = model.NonLinear_none\n",
    "        return pars\n",
    "\n",
    "    def calculate_and_save_power_spectrum(self, filename):\n",
    "        \"\"\"Calculate the matter power spectrum and save it to a file.\"\"\"\n",
    "        camb_params = self._initialize_camb_params()\n",
    "        results = camb.get_results(camb_params)\n",
    "        kh, _, pk = results.get_linear_matter_power_spectrum(hubble_units=True, have_power_spectra=True, nonlinear=False)\n",
    "        \n",
    "        # Save to file\n",
    "        np.savetxt(filename, np.column_stack([kh, pk[0]]), header=\"k [h/Mpc], P(k) [(Mpc/h)^3]\", comments=\"#\")\n",
    "    \n",
    "    \n",
    "    def load_and_spline_power_spectrum(self, k, filename):\n",
    "        \"\"\"Load the power spectrum from a file and create a spline interpolator.\"\"\"\n",
    "        data = np.loadtxt(filename)\n",
    "        kh = data[:, 0]  # k values\n",
    "        pk = data[:, 1]  # P(k) values\n",
    "        spline = CubicSpline(kh, pk, bc_type='natural')\n",
    "        return spline\n"
   ]
  },
  {
   "cell_type": "code",
   "execution_count": null,
   "id": "c964890e-0350-44f4-9f8a-b5d7fb1156cc",
   "metadata": {},
   "outputs": [],
   "source": []
  },
  {
   "cell_type": "code",
   "execution_count": null,
   "id": "4bad376c-45a1-489a-baac-4c40ef2070a9",
   "metadata": {},
   "outputs": [],
   "source": []
  },
  {
   "cell_type": "code",
   "execution_count": null,
   "id": "e1fc5cc6-e0c0-4da2-886f-adc35a61e166",
   "metadata": {},
   "outputs": [],
   "source": []
  },
  {
   "cell_type": "code",
   "execution_count": null,
   "id": "04596feb-d5a4-448d-87eb-9f1f5a1abe69",
   "metadata": {},
   "outputs": [],
   "source": []
  }
 ],
 "metadata": {
  "kernelspec": {
   "display_name": "Python 3 (ipykernel)",
   "language": "python",
   "name": "python3"
  },
  "language_info": {
   "codemirror_mode": {
    "name": "ipython",
    "version": 3
   },
   "file_extension": ".py",
   "mimetype": "text/x-python",
   "name": "python",
   "nbconvert_exporter": "python",
   "pygments_lexer": "ipython3",
   "version": "3.12.2"
  }
 },
 "nbformat": 4,
 "nbformat_minor": 5
}
